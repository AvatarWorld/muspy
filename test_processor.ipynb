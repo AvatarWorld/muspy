{
 "cells": [
  {
   "cell_type": "code",
   "execution_count": 1,
   "metadata": {},
   "outputs": [],
   "source": [
    "from midi_processor import OnehotProcessor\n",
    "from midi_processor import MidiEventProcessor\n",
    "import numpy as np\n",
    "import os\n",
    "import pretty_midi as pyd\n",
    "from tqdm import tqdm_notebook as tqdm"
   ]
  },
  {
   "cell_type": "code",
   "execution_count": 2,
   "metadata": {},
   "outputs": [],
   "source": [
    "data_path = \"../dataset/Muspy_test/Irish/\"\n",
    "output_path = \"result/Irish/\"\n",
    "min_step = 0.5 / 6\n",
    "\n"
   ]
  },
  {
   "cell_type": "code",
   "execution_count": 3,
   "metadata": {},
   "outputs": [
    {
     "data": {
      "application/vnd.jupyter.widget-view+json": {
       "model_id": "96552ee073114203ac4741142f6bd9e4",
       "version_major": 2,
       "version_minor": 0
      },
      "text/plain": [
       "HBox(children=(IntProgress(value=0, max=105), HTML(value='')))"
      ]
     },
     "metadata": {},
     "output_type": "display_data"
    },
    {
     "name": "stdout",
     "output_type": "stream",
     "text": [
      "\n"
     ]
    }
   ],
   "source": [
    "ohp = OnehotProcessor(dataset_name = \"Irish\", min_step = min_step)\n",
    "irish_dataset = []\n",
    "skip_file = []\n",
    "files = os.listdir(data_path)\n",
    "bar = tqdm(range(len(files)))\n",
    "for i in bar:\n",
    "    f = files[i] \n",
    "    filename = data_path + f\n",
    "    midi_file = pyd.PrettyMIDI(filename)\n",
    "    tsc = midi_file.time_signature_changes\n",
    "    if len(tsc) == 1 and tsc[0].numerator == 4 and tsc[0].denominator == 4:\n",
    "        onehot_mat = ohp.encode(note_seq = midi_file.instruments[0].notes, c_bias= 1.0 / 960)\n",
    "        irish_dataset.append({\"name\": f, \"onehot\": onehot_mat})\n",
    "    else:\n",
    "        bar.set_description(\"%s is not in 4/4 time signaturem, skip it\\n\" %(f))\n",
    "        skip_file.append(f)"
   ]
  },
  {
   "cell_type": "code",
   "execution_count": 4,
   "metadata": {},
   "outputs": [
    {
     "data": {
      "application/vnd.jupyter.widget-view+json": {
       "model_id": "55ebde0f032a425eb461b65d1436cd4a",
       "version_major": 2,
       "version_minor": 0
      },
      "text/plain": [
       "HBox(children=(IntProgress(value=0, max=36), HTML(value='')))"
      ]
     },
     "metadata": {},
     "output_type": "display_data"
    },
    {
     "name": "stdout",
     "output_type": "stream",
     "text": [
      "\n"
     ]
    }
   ],
   "source": [
    "for i in tqdm(range(len(irish_dataset))):\n",
    "    temp = irish_dataset[i][\"onehot\"]\n",
    "    filename = irish_dataset[i][\"name\"]\n",
    "    k = ohp.decode(onehot_seq=temp,output_dir=output_path + filename)\n",
    "#     print(\"success in ouputting %s\" %(filename))"
   ]
  },
  {
   "cell_type": "code",
   "execution_count": 5,
   "metadata": {},
   "outputs": [],
   "source": [
    "data_path = \"../dataset/Muspy_test/Nottingham/\"\n",
    "output_path = \"result/Nottingham/\"\n",
    "min_step = 0.5 / 6\n"
   ]
  },
  {
   "cell_type": "code",
   "execution_count": 6,
   "metadata": {},
   "outputs": [
    {
     "data": {
      "application/vnd.jupyter.widget-view+json": {
       "model_id": "c6fc37f456a447b097f3cfc6c11ec085",
       "version_major": 2,
       "version_minor": 0
      },
      "text/plain": [
       "HBox(children=(IntProgress(value=0, max=130), HTML(value='')))"
      ]
     },
     "metadata": {},
     "output_type": "display_data"
    },
    {
     "name": "stdout",
     "output_type": "stream",
     "text": [
      "\n"
     ]
    }
   ],
   "source": [
    "ohp = OnehotProcessor(dataset_name = \"Nottingham\", min_step = min_step)\n",
    "irish_dataset = []\n",
    "skip_file = []\n",
    "files = os.listdir(data_path)\n",
    "bar = tqdm(range(len(files)))\n",
    "for i in bar:\n",
    "    f = files[i] \n",
    "    filename = data_path + f\n",
    "    midi_file = pyd.PrettyMIDI(filename)\n",
    "    tsc = midi_file.time_signature_changes\n",
    "    onehot_mat = ohp.encode(note_seq = midi_file.instruments[0].notes, c_bias= 0)\n",
    "    irish_dataset.append({\"name\": f, \"onehot\": onehot_mat})"
   ]
  },
  {
   "cell_type": "code",
   "execution_count": 7,
   "metadata": {},
   "outputs": [
    {
     "data": {
      "application/vnd.jupyter.widget-view+json": {
       "model_id": "504d3f0d27424921baf7bab483fe6932",
       "version_major": 2,
       "version_minor": 0
      },
      "text/plain": [
       "HBox(children=(IntProgress(value=0, max=130), HTML(value='')))"
      ]
     },
     "metadata": {},
     "output_type": "display_data"
    },
    {
     "name": "stdout",
     "output_type": "stream",
     "text": [
      "\n"
     ]
    }
   ],
   "source": [
    "for i in tqdm(range(len(irish_dataset))):\n",
    "    temp = irish_dataset[i][\"onehot\"]\n",
    "    filename = irish_dataset[i][\"name\"]\n",
    "    k = ohp.decode(onehot_seq=temp,output_dir=output_path + filename)\n",
    "#     print(\"success in ouputting %s\" %(filename))"
   ]
  },
  {
   "cell_type": "code",
   "execution_count": 2,
   "metadata": {},
   "outputs": [],
   "source": [
    "data_path = \"../dataset/Muspy_test/Maestro//\"\n",
    "output_path = \"result/Maestro/\"\n"
   ]
  },
  {
   "cell_type": "code",
   "execution_count": 3,
   "metadata": {},
   "outputs": [
    {
     "data": {
      "application/vnd.jupyter.widget-view+json": {
       "model_id": "327fdb6559ec4910a877a7be0e3fc796",
       "version_major": 2,
       "version_minor": 0
      },
      "text/plain": [
       "HBox(children=(IntProgress(value=0, max=6), HTML(value='')))"
      ]
     },
     "metadata": {},
     "output_type": "display_data"
    },
    {
     "name": "stdout",
     "output_type": "stream",
     "text": [
      "\n"
     ]
    }
   ],
   "source": [
    "mep = MidiEventProcessor(dataset_name = \"Maestro\")\n",
    "irish_dataset = []\n",
    "skip_file = []\n",
    "files = os.listdir(data_path)\n",
    "bar = tqdm(range(len(files)))\n",
    "for i in bar:\n",
    "    f = files[i] \n",
    "    filename = data_path + f\n",
    "    midi_file = pyd.PrettyMIDI(filename)\n",
    "    midi_event = mep.encode(midi_file.instruments)\n",
    "    irish_dataset.append({\"name\": f, \"events\":midi_event})"
   ]
  },
  {
   "cell_type": "code",
   "execution_count": null,
   "metadata": {},
   "outputs": [],
   "source": []
  },
  {
   "cell_type": "code",
   "execution_count": 4,
   "metadata": {},
   "outputs": [
    {
     "data": {
      "application/vnd.jupyter.widget-view+json": {
       "model_id": "ae1cda4e6ea9434298e2c10d1969cefd",
       "version_major": 2,
       "version_minor": 0
      },
      "text/plain": [
       "HBox(children=(IntProgress(value=0, max=6), HTML(value='')))"
      ]
     },
     "metadata": {},
     "output_type": "display_data"
    },
    {
     "name": "stdout",
     "output_type": "stream",
     "text": [
      "\n"
     ]
    }
   ],
   "source": [
    "for i in tqdm(range(len(irish_dataset))):\n",
    "    temp = irish_dataset[i][\"events\"]\n",
    "    filename = irish_dataset[i][\"name\"]\n",
    "    k,sk = mep.decode(event_seq=temp,output_dir=output_path + filename)\n",
    "#     print(\"success in ouputting %s\" %(filename))"
   ]
  },
  {
   "cell_type": "code",
   "execution_count": null,
   "metadata": {},
   "outputs": [],
   "source": []
  }
 ],
 "metadata": {
  "kernelspec": {
   "display_name": "Python 3",
   "language": "python",
   "name": "python3"
  },
  "language_info": {
   "codemirror_mode": {
    "name": "ipython",
    "version": 3
   },
   "file_extension": ".py",
   "mimetype": "text/x-python",
   "name": "python",
   "nbconvert_exporter": "python",
   "pygments_lexer": "ipython3",
   "version": "3.7.0"
  }
 },
 "nbformat": 4,
 "nbformat_minor": 2
}
